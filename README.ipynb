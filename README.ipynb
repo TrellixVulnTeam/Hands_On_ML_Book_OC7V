{
 "cells": [
  {
   "cell_type": "markdown",
   "metadata": {},
   "source": [
    "# Setup This Environment\n",
    "\n",
    "* cd this_path\n",
    "* python3                   // Checks python version, should say python3\n",
    "* python3 -m venv Book_Env  // Creates virtual env in this_path\n",
    "* cd Book_Env               // Navigate into the virtual env\n",
    "* source bin/activate       // Activate the virtual env\n",
    "* pip install jupyter       // Install jupyter into the virtual env\n"
   ]
  },
  {
   "cell_type": "markdown",
   "metadata": {},
   "source": [
    "# Running the environment\n",
    "* cd this_path/Book_Env\n",
    "* source bin/activate        // Activate the virtual environment\n",
    "* jupyter notebook           // Start jupyter notebook"
   ]
  },
  {
   "cell_type": "code",
   "execution_count": null,
   "metadata": {},
   "outputs": [],
   "source": []
  }
 ],
 "metadata": {
  "kernelspec": {
   "display_name": "Python 3",
   "language": "python",
   "name": "python3"
  },
  "language_info": {
   "codemirror_mode": {
    "name": "ipython",
    "version": 3
   },
   "file_extension": ".py",
   "mimetype": "text/x-python",
   "name": "python",
   "nbconvert_exporter": "python",
   "pygments_lexer": "ipython3",
   "version": "3.9.1"
  }
 },
 "nbformat": 4,
 "nbformat_minor": 4
}
