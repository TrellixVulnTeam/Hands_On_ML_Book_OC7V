{
 "cells": [
  {
   "cell_type": "markdown",
   "metadata": {},
   "source": [
    "# Setup This Environment\n",
    "\n",
    "* cd this_path\n",
    "* python3                   // Checks python version, should say python3\n",
    "* python3 -m venv Book_Env  // Creates virtual env in this_path\n",
    "* cd Book_Env               // Navigate into the virtual env\n",
    "* source bin/activate       // Activate the virtual env\n",
    "* pip install jupyter       // Install jupyter into the virtual env\n",
    "\n",
    "\n",
    "* git init                  // initializes this directory as a git repository\n",
    "#### Create a new repository @ Github.com\n",
    "* git remote add origin https://github.com/mikec3/Hands_On_ML_Book.git    // Adds this directory to the new cloud repo\n",
    "* git add .\n",
    "* git commit -m \"initial init\"\n",
    "* git push origin master\n"
   ]
  },
  {
   "cell_type": "markdown",
   "metadata": {},
   "source": [
    "# Running the environment\n",
    "* cd this_path/Book_Env\n",
    "* source bin/activate        // Activate the virtual environment\n",
    "* jupyter notebook           // Start jupyter notebook"
   ]
  },
  {
   "cell_type": "code",
   "execution_count": null,
   "metadata": {},
   "outputs": [],
   "source": []
  }
 ],
 "metadata": {
  "kernelspec": {
   "display_name": "Python 3",
   "language": "python",
   "name": "python3"
  },
  "language_info": {
   "codemirror_mode": {
    "name": "ipython",
    "version": 3
   },
   "file_extension": ".py",
   "mimetype": "text/x-python",
   "name": "python",
   "nbconvert_exporter": "python",
   "pygments_lexer": "ipython3",
   "version": "3.9.1"
  }
 },
 "nbformat": 4,
 "nbformat_minor": 4
}
